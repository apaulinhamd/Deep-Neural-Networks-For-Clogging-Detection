{
 "cells": [
  {
   "cell_type": "markdown",
   "id": "6873451c",
   "metadata": {},
   "source": [
    "# ConvLSTM Model #7 with Heuristics\n",
    "(results)"
   ]
  },
  {
   "cell_type": "markdown",
   "id": "11b0cf90",
   "metadata": {},
   "source": [
    "***LOAD THE FUNCTIONS AND PACKAGES***"
   ]
  },
  {
   "cell_type": "code",
   "execution_count": 1,
   "id": "2ca5f84c",
   "metadata": {},
   "outputs": [
    {
     "name": "stderr",
     "output_type": "stream",
     "text": [
      "Using TensorFlow backend.\n"
     ]
    }
   ],
   "source": [
    "import pandas as pd\n",
    "import numpy as np\n",
    "from pandas import DataFrame\n",
    "from tabulate import tabulate\n",
    "from diniz_ftsv2 import *"
   ]
  },
  {
   "cell_type": "markdown",
   "id": "81b014ca",
   "metadata": {},
   "source": [
    "***LOAD DATASET (Confidential)***"
   ]
  },
  {
   "cell_type": "code",
   "execution_count": 2,
   "id": "eb80d0c7",
   "metadata": {},
   "outputs": [],
   "source": [
    "df = pd.read_csv('./dataset_.csv')\n",
    "X = df.values\n",
    "X = X.astype('float32')"
   ]
  },
  {
   "cell_type": "markdown",
   "id": "8e10ba1d",
   "metadata": {},
   "source": [
    "***DATA COMPOSITION (raw data)***\n",
    "\n",
    "X is formed by four input variables, which have been shifted at time *t=120* as described in the article. Consequently, each row of X consists of 480 samples (120x4) along with two columns that represent the output. The output, indicating either *clogging* or *non-clogging* is represented by the values **[1 0]** and **[0 1]**, respectively. Now, we will introduce the four input variables, the output, and the general parameters.\n",
    "\n",
    "***1) Summary Statistics of Inputs:***\n"
   ]
  },
  {
   "cell_type": "code",
   "execution_count": 3,
   "id": "d8fb01de",
   "metadata": {},
   "outputs": [
    {
     "data": {
      "text/html": [
       "<div>\n",
       "<style scoped>\n",
       "    .dataframe tbody tr th:only-of-type {\n",
       "        vertical-align: middle;\n",
       "    }\n",
       "\n",
       "    .dataframe tbody tr th {\n",
       "        vertical-align: top;\n",
       "    }\n",
       "\n",
       "    .dataframe thead th {\n",
       "        text-align: right;\n",
       "    }\n",
       "</style>\n",
       "<table border=\"1\" class=\"dataframe\">\n",
       "  <thead>\n",
       "    <tr style=\"text-align: right;\">\n",
       "      <th></th>\n",
       "      <th>Casting Spd</th>\n",
       "      <th>Mold Lvl</th>\n",
       "      <th>Gate Opn.</th>\n",
       "      <th>Tundish</th>\n",
       "    </tr>\n",
       "  </thead>\n",
       "  <tbody>\n",
       "    <tr>\n",
       "      <th>count</th>\n",
       "      <td>3.054426e+06</td>\n",
       "      <td>3.054426e+06</td>\n",
       "      <td>3.054426e+06</td>\n",
       "      <td>3.054426e+06</td>\n",
       "    </tr>\n",
       "    <tr>\n",
       "      <th>mean</th>\n",
       "      <td>1.188411e+00</td>\n",
       "      <td>1.007837e+02</td>\n",
       "      <td>7.063924e+01</td>\n",
       "      <td>5.513210e+00</td>\n",
       "    </tr>\n",
       "    <tr>\n",
       "      <th>std</th>\n",
       "      <td>2.208997e-01</td>\n",
       "      <td>8.715239e+00</td>\n",
       "      <td>4.749716e+00</td>\n",
       "      <td>4.998255e-01</td>\n",
       "    </tr>\n",
       "    <tr>\n",
       "      <th>min</th>\n",
       "      <td>0.000000e+00</td>\n",
       "      <td>3.416350e+01</td>\n",
       "      <td>-2.888620e-02</td>\n",
       "      <td>5.000000e+00</td>\n",
       "    </tr>\n",
       "    <tr>\n",
       "      <th>25%</th>\n",
       "      <td>1.008350e+00</td>\n",
       "      <td>9.938640e+01</td>\n",
       "      <td>6.753560e+01</td>\n",
       "      <td>5.000000e+00</td>\n",
       "    </tr>\n",
       "    <tr>\n",
       "      <th>50%</th>\n",
       "      <td>1.180000e+00</td>\n",
       "      <td>1.000180e+02</td>\n",
       "      <td>7.087970e+01</td>\n",
       "      <td>6.000000e+00</td>\n",
       "    </tr>\n",
       "    <tr>\n",
       "      <th>75%</th>\n",
       "      <td>1.350000e+00</td>\n",
       "      <td>1.006580e+02</td>\n",
       "      <td>7.377410e+01</td>\n",
       "      <td>6.000000e+00</td>\n",
       "    </tr>\n",
       "    <tr>\n",
       "      <th>max</th>\n",
       "      <td>1.710000e+00</td>\n",
       "      <td>2.000000e+02</td>\n",
       "      <td>1.023190e+02</td>\n",
       "      <td>6.000000e+00</td>\n",
       "    </tr>\n",
       "  </tbody>\n",
       "</table>\n",
       "</div>"
      ],
      "text/plain": [
       "        Casting Spd      Mold Lvl     Gate Opn.       Tundish\n",
       "count  3.054426e+06  3.054426e+06  3.054426e+06  3.054426e+06\n",
       "mean   1.188411e+00  1.007837e+02  7.063924e+01  5.513210e+00\n",
       "std    2.208997e-01  8.715239e+00  4.749716e+00  4.998255e-01\n",
       "min    0.000000e+00  3.416350e+01 -2.888620e-02  5.000000e+00\n",
       "25%    1.008350e+00  9.938640e+01  6.753560e+01  5.000000e+00\n",
       "50%    1.180000e+00  1.000180e+02  7.087970e+01  6.000000e+00\n",
       "75%    1.350000e+00  1.006580e+02  7.377410e+01  6.000000e+00\n",
       "max    1.710000e+00  2.000000e+02  1.023190e+02  6.000000e+00"
      ]
     },
     "execution_count": 3,
     "metadata": {},
     "output_type": "execute_result"
    }
   ],
   "source": [
    "Xp = pd.DataFrame(X)\n",
    "inputs = pd.DataFrame({'Casting Spd':Xp[0],'Mold Lvl':Xp[1],'Gate Opn.':Xp[2],'Tundish':Xp[3]})\n",
    "outputs = pd.DataFrame({'Clogging':Xp[Xp.shape[1]-2], 'Normal':Xp[Xp.shape[1]-1]})\n",
    "\n",
    "inputs.describe()\n"
   ]
  },
  {
   "cell_type": "markdown",
   "id": "381e0b28",
   "metadata": {},
   "source": [
    "***2) First 5 Rows of Input (t=0):***"
   ]
  },
  {
   "cell_type": "code",
   "execution_count": 4,
   "id": "a6dd266a",
   "metadata": {},
   "outputs": [
    {
     "data": {
      "text/html": [
       "<div>\n",
       "<style scoped>\n",
       "    .dataframe tbody tr th:only-of-type {\n",
       "        vertical-align: middle;\n",
       "    }\n",
       "\n",
       "    .dataframe tbody tr th {\n",
       "        vertical-align: top;\n",
       "    }\n",
       "\n",
       "    .dataframe thead th {\n",
       "        text-align: right;\n",
       "    }\n",
       "</style>\n",
       "<table border=\"1\" class=\"dataframe\">\n",
       "  <thead>\n",
       "    <tr style=\"text-align: right;\">\n",
       "      <th></th>\n",
       "      <th>Casting Spd</th>\n",
       "      <th>Mold Lvl</th>\n",
       "      <th>Gate Opn.</th>\n",
       "      <th>Tundish</th>\n",
       "    </tr>\n",
       "  </thead>\n",
       "  <tbody>\n",
       "    <tr>\n",
       "      <th>0</th>\n",
       "      <td>1.20000</td>\n",
       "      <td>100.542000</td>\n",
       "      <td>70.076103</td>\n",
       "      <td>5.0</td>\n",
       "    </tr>\n",
       "    <tr>\n",
       "      <th>1</th>\n",
       "      <td>1.19254</td>\n",
       "      <td>100.589996</td>\n",
       "      <td>68.787804</td>\n",
       "      <td>5.0</td>\n",
       "    </tr>\n",
       "    <tr>\n",
       "      <th>2</th>\n",
       "      <td>1.19725</td>\n",
       "      <td>100.617996</td>\n",
       "      <td>68.397697</td>\n",
       "      <td>5.0</td>\n",
       "    </tr>\n",
       "    <tr>\n",
       "      <th>3</th>\n",
       "      <td>1.19314</td>\n",
       "      <td>100.646004</td>\n",
       "      <td>69.981903</td>\n",
       "      <td>5.0</td>\n",
       "    </tr>\n",
       "    <tr>\n",
       "      <th>4</th>\n",
       "      <td>1.19000</td>\n",
       "      <td>101.015999</td>\n",
       "      <td>69.698196</td>\n",
       "      <td>5.0</td>\n",
       "    </tr>\n",
       "  </tbody>\n",
       "</table>\n",
       "</div>"
      ],
      "text/plain": [
       "   Casting Spd    Mold Lvl  Gate Opn.  Tundish\n",
       "0      1.20000  100.542000  70.076103      5.0\n",
       "1      1.19254  100.589996  68.787804      5.0\n",
       "2      1.19725  100.617996  68.397697      5.0\n",
       "3      1.19314  100.646004  69.981903      5.0\n",
       "4      1.19000  101.015999  69.698196      5.0"
      ]
     },
     "execution_count": 4,
     "metadata": {},
     "output_type": "execute_result"
    }
   ],
   "source": [
    "inputs.head()"
   ]
  },
  {
   "cell_type": "markdown",
   "id": "b54c2f33",
   "metadata": {},
   "source": [
    "***3) Presentation of the % of samples classified as Clogging and Normal:***"
   ]
  },
  {
   "cell_type": "code",
   "execution_count": 5,
   "id": "a8638627",
   "metadata": {},
   "outputs": [
    {
     "name": "stdout",
     "output_type": "stream",
     "text": [
      "------------  --\n",
      "Output        %\n",
      "Clogging      7\n",
      "Non-Clogging  93\n",
      "------------  --\n"
     ]
    }
   ],
   "source": [
    "n_clog = outputs.Clogging[outputs.Clogging == 1].sum()  \n",
    "n_normal = outputs.Normal[outputs.Normal == 1].sum()  \n",
    "\n",
    "table = [['Output', '%'], \n",
    "         ['Clogging', round(100*n_clog/(n_clog+n_normal))], \n",
    "         ['Non-Clogging', round(100*n_normal/(n_clog+n_normal))]]\n",
    "print(tabulate(table))"
   ]
  },
  {
   "cell_type": "markdown",
   "id": "5ffc947e",
   "metadata": {},
   "source": [
    "***4) First 5 Rows of Output:***"
   ]
  },
  {
   "cell_type": "code",
   "execution_count": 6,
   "id": "2cde47f5",
   "metadata": {},
   "outputs": [
    {
     "data": {
      "text/html": [
       "<div>\n",
       "<style scoped>\n",
       "    .dataframe tbody tr th:only-of-type {\n",
       "        vertical-align: middle;\n",
       "    }\n",
       "\n",
       "    .dataframe tbody tr th {\n",
       "        vertical-align: top;\n",
       "    }\n",
       "\n",
       "    .dataframe thead th {\n",
       "        text-align: right;\n",
       "    }\n",
       "</style>\n",
       "<table border=\"1\" class=\"dataframe\">\n",
       "  <thead>\n",
       "    <tr style=\"text-align: right;\">\n",
       "      <th></th>\n",
       "      <th>Clogging</th>\n",
       "      <th>Normal</th>\n",
       "    </tr>\n",
       "  </thead>\n",
       "  <tbody>\n",
       "    <tr>\n",
       "      <th>0</th>\n",
       "      <td>1.0</td>\n",
       "      <td>0.0</td>\n",
       "    </tr>\n",
       "    <tr>\n",
       "      <th>1</th>\n",
       "      <td>1.0</td>\n",
       "      <td>0.0</td>\n",
       "    </tr>\n",
       "    <tr>\n",
       "      <th>2</th>\n",
       "      <td>1.0</td>\n",
       "      <td>0.0</td>\n",
       "    </tr>\n",
       "    <tr>\n",
       "      <th>3</th>\n",
       "      <td>1.0</td>\n",
       "      <td>0.0</td>\n",
       "    </tr>\n",
       "    <tr>\n",
       "      <th>4</th>\n",
       "      <td>1.0</td>\n",
       "      <td>0.0</td>\n",
       "    </tr>\n",
       "  </tbody>\n",
       "</table>\n",
       "</div>"
      ],
      "text/plain": [
       "   Clogging  Normal\n",
       "0       1.0     0.0\n",
       "1       1.0     0.0\n",
       "2       1.0     0.0\n",
       "3       1.0     0.0\n",
       "4       1.0     0.0"
      ]
     },
     "execution_count": 6,
     "metadata": {},
     "output_type": "execute_result"
    }
   ],
   "source": [
    "outputs.head()"
   ]
  },
  {
   "cell_type": "code",
   "execution_count": 7,
   "id": "14b3b666",
   "metadata": {},
   "outputs": [],
   "source": [
    "del df, Xp, table, inputs, n_clog, n_normal, outputs"
   ]
  },
  {
   "cell_type": "markdown",
   "id": "95b6ada2",
   "metadata": {},
   "source": [
    "**PARAMETER DETERMINATION FOR MODEL TRAINING (as Reported in Article - ConvLSTM #7)**\n",
    "\n",
    "* **delay** - determines the temporal sample size of each input matrix (as explained in the manuscript)\n",
    "&nbsp;\n",
    "\n",
    "* **n_features** - number of input variables (as explained in the manuscript)\n",
    "\n",
    "***1) Defines the parameters used in the network, where:***\n",
    "   \n",
    "* **ftr_ly_01** - first layer filters\n",
    "&nbsp;\n",
    "\n",
    "* **ftr_ly_02** - second layer filters\n",
    "&nbsp;\n",
    "\n",
    "* **krn_ly_01** - first layer kernels\n",
    "&nbsp;\n",
    "\n",
    "* **krn_ly_02** - second layer kernels\n",
    "&nbsp;\n",
    "\n",
    "* **dropout_01** - first dropout layer\n",
    "&nbsp;\n",
    "\n",
    "* **dense_ly** - dense layer neurons\n",
    "&nbsp;\n",
    "\n",
    "* **dropout_02** - second dropout layer\n",
    "\n",
    "\n",
    "***2) Defines the lists that will receive the results of the performance criteria of each repetition of the code:***\n",
    "\n",
    "* **accuracy_**  - to save the accuracy values for each round\n",
    "&nbsp;\n",
    "\n",
    "* **precision_** - to save the precision values for each round\n",
    "&nbsp;\n",
    "\n",
    "* **Recall_** - to save the recall values for each round\n",
    "&nbsp;\n",
    "\n",
    "* **f1_** - to save the F1 values for each round\n",
    "&nbsp;\n",
    "\n",
    "* **MCC_** - to save the MCC values for each round"
   ]
  },
  {
   "cell_type": "code",
   "execution_count": 8,
   "id": "89d602e9",
   "metadata": {},
   "outputs": [],
   "source": [
    "delay = 120\n",
    "n_features = 4 \n",
    "\n",
    "# 1)\n",
    "ftr_ly_01 = 256 \n",
    "ftr_ly_02 = 16 \n",
    "krn_ly_01 = 5 \n",
    "krn_ly_02 = 3 \n",
    "dropout_01 = 0.5 \n",
    "dense_ly = 200 \n",
    "dropout_02 = 0.3 \n",
    "\n",
    "# 2)\n",
    "accuracy_ = list() \n",
    "precision_ = list() \n",
    "Recall_ = list() \n",
    "f1_ = list() \n",
    "MCC_ = list() \n"
   ]
  },
  {
   "cell_type": "markdown",
   "id": "f648e5f3",
   "metadata": {},
   "source": [
    "***NEURAL NETWORK TRAINING***\n",
    "\n",
    "***1) Split the dataset into training, validation, and testing sets***\n",
    "\n",
    "* **X_train** - 80% (model training)\n",
    "* **X_valid** - 20% (model validation)\n",
    "* **X_test** - 20% (model tests)\n",
    "\n",
    "***2) Defines the number of times the network will be retrained/tested (a kind of k-fold, with k=5)***\n",
    "&nbsp;\n",
    "\n",
    "**rounds** = 5\n",
    "\n",
    "***3) Save the model and the test dataset (X_test and y_test)***\n",
    "&nbsp;\n",
    "\n",
    "where **model** is the Convlstm model trained\n"
   ]
  },
  {
   "cell_type": "code",
   "execution_count": 9,
   "id": "3df0863d",
   "metadata": {},
   "outputs": [
    {
     "name": "stdout",
     "output_type": "stream",
     "text": [
      "ConvLstm network training - START - round = 1\n",
      "40578/40578 [==============================] - 13s 331us/step\n",
      "ConvLstm network training - CONCLUDED - round = 1\n",
      "Performance parameters of the ConvLstm network (test) - round = 1\n",
      "Accuracy \t  \t \t \t \t 95.005%\n",
      "Precision \t \t \t \t \t 95.213%\n",
      "Recall \t \t \t \t \t \t 97.077%\n",
      "F1 \t \t \t \t \t \t 96.106%\n",
      "MCC \t \t \t \t \t \t 0.901\n",
      "ConvLstm network training - START - round = 2\n",
      "40578/40578 [==============================] - 12s 293us/step\n",
      "ConvLstm network training - CONCLUDED - round = 2\n",
      "Performance parameters of the ConvLstm network (test) - round = 2\n",
      "Accuracy \t  \t \t \t \t 94.980%\n",
      "Precision \t \t \t \t \t 95.088%\n",
      "Recall \t \t \t \t \t \t 97.176%\n",
      "F1 \t \t \t \t \t \t 96.088%\n",
      "MCC \t \t \t \t \t \t 0.900\n",
      "ConvLstm network training - START - round = 3\n",
      "40578/40578 [==============================] - 14s 353us/step\n",
      "ConvLstm network training - CONCLUDED - round = 3\n",
      "Performance parameters of the ConvLstm network (test) - round = 3\n",
      "Accuracy \t  \t \t \t \t 94.941%\n",
      "Precision \t \t \t \t \t 95.904%\n",
      "Recall \t \t \t \t \t \t 97.314%\n",
      "F1 \t \t \t \t \t \t 96.058%\n",
      "MCC \t \t \t \t \t \t 0.900\n",
      "ConvLstm network training - START - round = 4\n",
      "40578/40578 [==============================] - 17s 407us/step\n",
      "ConvLstm network training - CONCLUDED - round = 4\n",
      "Performance parameters of the ConvLstm network (test) - round = 4\n",
      "Accuracy \t  \t \t \t \t 95.182%\n",
      "Precision \t \t \t \t \t 95.569%\n",
      "Recall \t \t \t \t \t \t 97.033%\n",
      "F1 \t \t \t \t \t \t 96.270%\n",
      "MCC \t \t \t \t \t \t 0.904\n",
      "ConvLstm network training - START - round = 5\n",
      "40578/40578 [==============================] - 17s 425us/step\n",
      "ConvLstm network training - CONCLUDED - round = 5\n",
      "Performance parameters of the ConvLstm network (test) - round = 5\n",
      "Accuracy \t  \t \t \t \t 95.172%\n",
      "Precision \t \t \t \t \t 95.547%\n",
      "Recall \t \t \t \t \t \t 97.038%\n",
      "F1 \t \t \t \t \t \t 96.261%\n",
      "MCC \t \t \t \t \t \t 0.904\n"
     ]
    }
   ],
   "source": [
    "rounds = 5\n",
    "\n",
    "for r in range(rounds):\n",
    "    \n",
    "    print('ConvLstm network training - START - round = %d' % (r+1))\n",
    "    accuracy_test, precision_test, recall_test, f1_test, MCC_test, model, X_test, y_test = traintest_convlstm(X, r, delay, n_features, ftr_ly_01, ftr_ly_02, krn_ly_01, krn_ly_02, dropout_01, dense_ly, dropout_02)\n",
    "    print('ConvLstm network training - CONCLUDED - round = %d' % (r+1))\n",
    "\n",
    "    #presents the results of the test number \"r\" of the ConvLSTM(256,16) network:\n",
    "    print('Performance parameters of the ConvLstm network (test) - round = %d' % (r+1))\n",
    "    summarize_results_point(accuracy_test, precision_test, recall_test, f1_test, MCC_test)\n",
    "\n",
    "    # groups the results of each network test\n",
    "    accuracy_.append(accuracy_test)\n",
    "    precision_.append(precision_test)\n",
    "    Recall_.append(recall_test)\n",
    "    f1_.append(f1_test)\n",
    "    MCC_.append(MCC_test)  \n",
    "\n",
    "    if r == 1:\n",
    "        # model.save('convlstm_save.h5') # Salve model (optional)\n",
    "        model_r = model\n",
    "        Xtst = X_test\n",
    "        ytst = y_test\n",
    "\n",
    "    else:  \n",
    "        del  model # delete model"
   ]
  },
  {
   "cell_type": "markdown",
   "id": "14bd6ad0",
   "metadata": {},
   "source": [
    "***TRAINING COMPLETED***\n",
    "\n",
    "Presents the final results after testing the ConvLSTM(256,16) network:"
   ]
  },
  {
   "cell_type": "code",
   "execution_count": 10,
   "id": "f4564076",
   "metadata": {},
   "outputs": [
    {
     "name": "stdout",
     "output_type": "stream",
     "text": [
      "Accuracy \t  \t \t \t \t 95.056% (+/-0.101)\n",
      "Precision \t \t \t \t \t 95.464% (+/-0.288)\n",
      "Recall \t \t \t \t \t \t 97.128% (+/-0.106)\n",
      "F1 \t \t \t \t \t \t 96.156% (+/-0.090)\n",
      "MCC \t \t \t \t \t \t 0.902 (+/-0.002)\n"
     ]
    }
   ],
   "source": [
    "summarize_results(accuracy_, precision_, Recall_, f1_, MCC_)"
   ]
  },
  {
   "cell_type": "markdown",
   "id": "5d9f21b0",
   "metadata": {},
   "source": [
    "***POST-PROCESSING HEURISTICS***\n",
    "\n",
    "Following the manuscript's explanation, the window size is set to 40 samples (*window = 40*), with minimum (*lim_min*) and maximum (*lim_max*) thresholds set to 0.3 and 0.8, respectively.\n",
    "\n",
    "***1) Reload the model as well as the test set***"
   ]
  },
  {
   "cell_type": "code",
   "execution_count": 11,
   "id": "f21e1695",
   "metadata": {},
   "outputs": [
    {
     "name": "stdout",
     "output_type": "stream",
     "text": [
      "Model: \"ConvLSTM\"\n",
      "_________________________________________________________________\n",
      "Layer (type)                 Output Shape              Param #   \n",
      "=================================================================\n",
      "conv_lst_m2d_3 (ConvLSTM2D)  (None, 4, 1, 26, 256)     1332224   \n",
      "_________________________________________________________________\n",
      "conv_lst_m2d_4 (ConvLSTM2D)  (None, 1, 24, 16)         52288     \n",
      "_________________________________________________________________\n",
      "dropout_3 (Dropout)          (None, 1, 24, 16)         0         \n",
      "_________________________________________________________________\n",
      "flatten_2 (Flatten)          (None, 384)               0         \n",
      "_________________________________________________________________\n",
      "dense_3 (Dense)              (None, 200)               77000     \n",
      "_________________________________________________________________\n",
      "dropout_4 (Dropout)          (None, 200)               0         \n",
      "_________________________________________________________________\n",
      "dense_4 (Dense)              (None, 2)                 402       \n",
      "=================================================================\n",
      "Total params: 1,461,914\n",
      "Trainable params: 1,461,914\n",
      "Non-trainable params: 0\n",
      "_________________________________________________________________\n"
     ]
    }
   ],
   "source": [
    "X_test = Xtst\n",
    "y_test = ytst\n",
    "model = model_r \n",
    "\n",
    "model.summary() # visualize model"
   ]
  },
  {
   "cell_type": "markdown",
   "id": "3be371aa",
   "metadata": {},
   "source": [
    "***2) Apply the test set to the network using heuristics***"
   ]
  },
  {
   "cell_type": "code",
   "execution_count": 14,
   "id": "d706a34e",
   "metadata": {},
   "outputs": [],
   "source": [
    "accuracy_h, precision_h, recall_h, f1_h, MCC_h = convlstm_heuristic(X_test, y_test, model)"
   ]
  },
  {
   "cell_type": "markdown",
   "id": "913a1798",
   "metadata": {},
   "source": [
    "***OVERALL CONVLSTM 7 RESULTS AFTER POST-PROCESSING HEURISTICS***"
   ]
  },
  {
   "cell_type": "code",
   "execution_count": 15,
   "id": "2586c409",
   "metadata": {},
   "outputs": [
    {
     "name": "stdout",
     "output_type": "stream",
     "text": [
      "After Heuristic:\n",
      "Accuracy \t  \t \t \t \t 99.869%\n",
      "Precision \t \t \t \t \t 97.938%\n",
      "Recall \t \t \t \t \t \t 98.616%\n",
      "F1 \t \t \t \t \t \t 98.276%\n",
      "MCC \t \t \t \t \t \t 0.982\n"
     ]
    }
   ],
   "source": [
    "print('After Heuristic:')\n",
    "summarize_results_point(accuracy_h, precision_h, recall_h, f1_h, MCC_h)"
   ]
  },
  {
   "cell_type": "code",
   "execution_count": null,
   "id": "1875b5cd",
   "metadata": {},
   "outputs": [],
   "source": []
  }
 ],
 "metadata": {
  "kernelspec": {
   "display_name": "Python 3",
   "language": "python",
   "name": "python3"
  },
  "language_info": {
   "codemirror_mode": {
    "name": "ipython",
    "version": 3
   },
   "file_extension": ".py",
   "mimetype": "text/x-python",
   "name": "python",
   "nbconvert_exporter": "python",
   "pygments_lexer": "ipython3",
   "version": "3.6.13"
  }
 },
 "nbformat": 4,
 "nbformat_minor": 5
}
